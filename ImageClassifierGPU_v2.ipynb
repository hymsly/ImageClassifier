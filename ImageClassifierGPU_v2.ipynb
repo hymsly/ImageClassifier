{
 "cells": [
  {
   "cell_type": "code",
   "execution_count": 1,
   "metadata": {},
   "outputs": [
    {
     "name": "stderr",
     "output_type": "stream",
     "text": [
      "Using TensorFlow backend.\n"
     ]
    }
   ],
   "source": [
    "from keras.layers import Conv2D\n",
    "from keras.layers import MaxPooling2D\n",
    "from keras.layers import Flatten\n",
    "from keras.layers import Dense\n",
    "from keras import Sequential"
   ]
  },
  {
   "cell_type": "code",
   "execution_count": 13,
   "metadata": {},
   "outputs": [],
   "source": [
    "classifier = Sequential()"
   ]
  },
  {
   "cell_type": "code",
   "execution_count": 14,
   "metadata": {},
   "outputs": [],
   "source": [
    "##STEP 1: CONVOLUTIONAL LAYER\n",
    "classifier.add(Conv2D(64,(3,3),input_shape=(128,128,3),activation=\"relu\"))"
   ]
  },
  {
   "cell_type": "code",
   "execution_count": 15,
   "metadata": {},
   "outputs": [],
   "source": [
    "##STEP 2: POOLING\n",
    "classifier.add(MaxPooling2D(pool_size=(2,2)))"
   ]
  },
  {
   "cell_type": "code",
   "execution_count": 16,
   "metadata": {},
   "outputs": [],
   "source": [
    "##ADDING A NEW CONVOLUTIONA LAYER\n",
    "classifier.add(Conv2D(64, kernel_size=(3,3), activation='relu'))\n",
    "classifier.add(MaxPooling2D(pool_size=(2,2)))"
   ]
  },
  {
   "cell_type": "code",
   "execution_count": 17,
   "metadata": {},
   "outputs": [],
   "source": [
    "##STEP 3: FLATTENING\n",
    "classifier.add(Flatten())"
   ]
  },
  {
   "cell_type": "code",
   "execution_count": 18,
   "metadata": {},
   "outputs": [],
   "source": [
    "###ANN\n",
    "##STEP 4: FULL CONNECTED LAYER\n",
    "num_labels = 4\n",
    "classifier.add(Dense(activation=\"relu\", units=512))\n",
    "classifier.add(Dense(activation=\"softmax\", units=num_labels))"
   ]
  },
  {
   "cell_type": "code",
   "execution_count": 19,
   "metadata": {},
   "outputs": [],
   "source": [
    "##COMPILE MODEL\n",
    "classifier.compile(optimizer=\"adam\",loss=\"categorical_crossentropy\",metrics=['accuracy'])"
   ]
  },
  {
   "cell_type": "code",
   "execution_count": 20,
   "metadata": {},
   "outputs": [
    {
     "name": "stdout",
     "output_type": "stream",
     "text": [
      "Found 2481 images belonging to 4 classes.\n",
      "Found 621 images belonging to 4 classes.\n"
     ]
    }
   ],
   "source": [
    "from keras.preprocessing.image import ImageDataGenerator\n",
    "URL_TRAIN = \"D:/UNI/TESIS/data/train\"\n",
    "URL_TEST = \"D:/UNI/TESIS/data/test\"\n",
    "train_datagen = ImageDataGenerator(\n",
    "        rescale=1./255,\n",
    "        shear_range=0.2,\n",
    "        zoom_range=0.2,\n",
    "        horizontal_flip=True)\n",
    "\n",
    "test_datagen = ImageDataGenerator(rescale=1./255)\n",
    "\n",
    "train_set = train_datagen.flow_from_directory(URL_TRAIN,\n",
    "                                                    target_size=(128, 128),\n",
    "                                                    batch_size=32,\n",
    "                                                    class_mode='categorical')\n",
    "\n",
    "test_set = test_datagen.flow_from_directory(URL_TEST,\n",
    "                                                        target_size=(128, 128),\n",
    "                                                        batch_size=32,\n",
    "                                                        class_mode='categorical')"
   ]
  },
  {
   "cell_type": "code",
   "execution_count": 21,
   "metadata": {},
   "outputs": [
    {
     "name": "stdout",
     "output_type": "stream",
     "text": [
      "Epoch 1/10\n",
      "2481/2481 [==============================] - 534s 215ms/step - loss: 0.4113 - acc: 0.8454 - val_loss: 1.5183 - val_acc: 0.6991\n",
      "Epoch 2/10\n",
      "2481/2481 [==============================] - 531s 214ms/step - loss: 0.0663 - acc: 0.9796 - val_loss: 2.2429 - val_acc: 0.6762\n",
      "Epoch 3/10\n",
      "2481/2481 [==============================] - 530s 214ms/step - loss: 0.0404 - acc: 0.9884 - val_loss: 2.2718 - val_acc: 0.6716\n",
      "Epoch 4/10\n",
      "2481/2481 [==============================] - 529s 213ms/step - loss: 0.0297 - acc: 0.9913 - val_loss: 2.3292 - val_acc: 0.6793\n",
      "Epoch 5/10\n",
      "2481/2481 [==============================] - 530s 214ms/step - loss: 0.0225 - acc: 0.9937 - val_loss: 2.4705 - val_acc: 0.6770\n",
      "Epoch 6/10\n",
      "2481/2481 [==============================] - 529s 213ms/step - loss: 0.0200 - acc: 0.9948 - val_loss: 2.8429 - val_acc: 0.6441\n",
      "Epoch 7/10\n",
      "2481/2481 [==============================] - 530s 213ms/step - loss: 0.0220 - acc: 0.9944 - val_loss: 2.9958 - val_acc: 0.6682\n",
      "Epoch 8/10\n",
      "2481/2481 [==============================] - 526s 212ms/step - loss: 0.0167 - acc: 0.9955 - val_loss: 3.0309 - val_acc: 0.6649\n",
      "Epoch 9/10\n",
      "2481/2481 [==============================] - 529s 213ms/step - loss: 0.0217 - acc: 0.9952 - val_loss: 2.8917 - val_acc: 0.7107\n",
      "Epoch 10/10\n",
      "2481/2481 [==============================] - 527s 213ms/step - loss: 0.0128 - acc: 0.9968 - val_loss: 3.1705 - val_acc: 0.6898\n"
     ]
    },
    {
     "data": {
      "text/plain": [
       "<keras.callbacks.History at 0x285a8456588>"
      ]
     },
     "execution_count": 21,
     "metadata": {},
     "output_type": "execute_result"
    }
   ],
   "source": [
    "from PIL import ImageFile\n",
    "ImageFile.LOAD_TRUNCATED_IMAGES = True\n",
    "\n",
    "classifier.fit_generator(train_set,\n",
    "        steps_per_epoch=2481,\n",
    "        epochs=10,\n",
    "        validation_data=test_set,\n",
    "        validation_steps=621)"
   ]
  },
  {
   "cell_type": "code",
   "execution_count": null,
   "metadata": {},
   "outputs": [],
   "source": []
  }
 ],
 "metadata": {
  "kernelspec": {
   "display_name": "TensorFlow-GPU",
   "language": "python",
   "name": "tf-gpu"
  },
  "language_info": {
   "codemirror_mode": {
    "name": "ipython",
    "version": 3
   },
   "file_extension": ".py",
   "mimetype": "text/x-python",
   "name": "python",
   "nbconvert_exporter": "python",
   "pygments_lexer": "ipython3",
   "version": "3.7.3"
  }
 },
 "nbformat": 4,
 "nbformat_minor": 2
}
