{
 "cells": [
  {
   "cell_type": "code",
   "execution_count": 1,
   "metadata": {},
   "outputs": [
    {
     "name": "stderr",
     "output_type": "stream",
     "text": [
      "Using TensorFlow backend.\n"
     ]
    }
   ],
   "source": [
    "from keras.layers import Convolution2D\n",
    "from keras.layers import MaxPooling2D\n",
    "from keras.layers import Flatten\n",
    "from keras.layers import Dense\n",
    "from keras import Sequential\n"
   ]
  },
  {
   "cell_type": "code",
   "execution_count": 2,
   "metadata": {},
   "outputs": [],
   "source": [
    "classifier = Sequential()"
   ]
  },
  {
   "cell_type": "code",
   "execution_count": 3,
   "metadata": {},
   "outputs": [
    {
     "name": "stdout",
     "output_type": "stream",
     "text": [
      "WARNING:tensorflow:From C:\\Users\\Usuario\\Anaconda3\\lib\\site-packages\\tensorflow\\python\\framework\\op_def_library.py:263: colocate_with (from tensorflow.python.framework.ops) is deprecated and will be removed in a future version.\n",
      "Instructions for updating:\n",
      "Colocations handled automatically by placer.\n"
     ]
    },
    {
     "name": "stderr",
     "output_type": "stream",
     "text": [
      "C:\\Users\\Usuario\\Anaconda3\\lib\\site-packages\\ipykernel_launcher.py:2: UserWarning: Update your `Conv2D` call to the Keras 2 API: `Conv2D(32, (3, 3), input_shape=(64, 64, 3..., activation=\"relu\")`\n",
      "  \n"
     ]
    }
   ],
   "source": [
    "##STEP 1: CONVOLUTIONAL LAYER\n",
    "classifier.add(Convolution2D(32,3,3,input_shape=(64,64,3),activation=\"relu\"))"
   ]
  },
  {
   "cell_type": "code",
   "execution_count": 4,
   "metadata": {},
   "outputs": [],
   "source": [
    "\n",
    "##STEP 2: POOLING\n",
    "classifier.add(MaxPooling2D(pool_size=(2,2)))"
   ]
  },
  {
   "cell_type": "code",
   "execution_count": 5,
   "metadata": {},
   "outputs": [],
   "source": [
    "##STEP 3: FLATTENING\n",
    "classifier.add(Flatten())"
   ]
  },
  {
   "cell_type": "code",
   "execution_count": 6,
   "metadata": {},
   "outputs": [],
   "source": [
    "###ANN\n",
    "##STEP 4: FULL CONNECTED LAYER\n",
    "num_labels = 4\n",
    "classifier.add(Dense(activation=\"relu\", units=128))\n",
    "classifier.add(Dense(activation=\"softmax\", units=num_labels))"
   ]
  },
  {
   "cell_type": "code",
   "execution_count": 7,
   "metadata": {},
   "outputs": [],
   "source": [
    "##COMPILE MODEL\n",
    "classifier.compile(optimizer=\"adam\",loss=\"categorical_crossentropy\",metrics=['accuracy'])\n"
   ]
  },
  {
   "cell_type": "code",
   "execution_count": 8,
   "metadata": {},
   "outputs": [
    {
     "name": "stdout",
     "output_type": "stream",
     "text": [
      "Found 2481 images belonging to 4 classes.\n",
      "Found 621 images belonging to 4 classes.\n"
     ]
    }
   ],
   "source": [
    "from keras.preprocessing.image import ImageDataGenerator\n",
    "URL_TRAIN = \"D:/UNI/TESIS/data/train\"\n",
    "URL_TEST = \"D:/UNI/TESIS/data/test\"\n",
    "train_datagen = ImageDataGenerator(\n",
    "        rescale=1./255,\n",
    "        shear_range=0.2,\n",
    "        zoom_range=0.2,\n",
    "        horizontal_flip=True)\n",
    "\n",
    "test_datagen = ImageDataGenerator(rescale=1./255)\n",
    "\n",
    "train_set = train_datagen.flow_from_directory(URL_TRAIN,\n",
    "                                                    target_size=(64, 64),\n",
    "                                                    batch_size=32,\n",
    "                                                    class_mode='categorical')\n",
    "\n",
    "test_set = test_datagen.flow_from_directory(URL_TEST,\n",
    "                                                        target_size=(64, 64),\n",
    "                                                        batch_size=32,\n",
    "                                                        class_mode='categorical')\n",
    "\n"
   ]
  },
  {
   "cell_type": "code",
   "execution_count": 9,
   "metadata": {},
   "outputs": [
    {
     "name": "stdout",
     "output_type": "stream",
     "text": [
      "WARNING:tensorflow:From C:\\Users\\Usuario\\Anaconda3\\lib\\site-packages\\tensorflow\\python\\ops\\math_ops.py:3066: to_int32 (from tensorflow.python.ops.math_ops) is deprecated and will be removed in a future version.\n",
      "Instructions for updating:\n",
      "Use tf.cast instead.\n",
      "Epoch 1/10\n",
      "2481/2481 [==============================] - 482s 194ms/step - loss: 0.5097 - acc: 0.8089 - val_loss: 1.2373 - val_acc: 0.6729\n",
      "Epoch 2/10\n",
      "2481/2481 [==============================] - 454s 183ms/step - loss: 0.1385 - acc: 0.9537 - val_loss: 1.8094 - val_acc: 0.6975\n",
      "Epoch 3/10\n",
      "2481/2481 [==============================] - 454s 183ms/step - loss: 0.0737 - acc: 0.9764 - val_loss: 2.0998 - val_acc: 0.6780\n",
      "Epoch 4/10\n",
      "2481/2481 [==============================] - 1158s 467ms/step - loss: 0.0492 - acc: 0.9845 - val_loss: 2.3193 - val_acc: 0.6686\n",
      "Epoch 5/10\n",
      "2481/2481 [==============================] - 455s 183ms/step - loss: 0.0405 - acc: 0.9881 - val_loss: 2.5223 - val_acc: 0.6891\n",
      "Epoch 6/10\n",
      "2481/2481 [==============================] - 455s 184ms/step - loss: 0.0363 - acc: 0.9894 - val_loss: 3.7991 - val_acc: 0.6051\n",
      "Epoch 7/10\n",
      "2481/2481 [==============================] - 459s 185ms/step - loss: 0.0333 - acc: 0.9908 - val_loss: 2.8334 - val_acc: 0.6597\n",
      "Epoch 8/10\n",
      "2481/2481 [==============================] - 456s 184ms/step - loss: 0.0298 - acc: 0.9915 - val_loss: 2.9037 - val_acc: 0.6712\n",
      "Epoch 9/10\n",
      "2481/2481 [==============================] - 455s 183ms/step - loss: 0.0225 - acc: 0.9934 - val_loss: 3.0020 - val_acc: 0.6769\n",
      "Epoch 10/10\n",
      "2481/2481 [==============================] - 455s 183ms/step - loss: 0.0246 - acc: 0.9931 - val_loss: 3.0308 - val_acc: 0.6889\n"
     ]
    },
    {
     "data": {
      "text/plain": [
       "<keras.callbacks.History at 0x24b78bf4a20>"
      ]
     },
     "execution_count": 9,
     "metadata": {},
     "output_type": "execute_result"
    }
   ],
   "source": [
    "from PIL import ImageFile\n",
    "ImageFile.LOAD_TRUNCATED_IMAGES = True\n",
    "\n",
    "classifier.fit_generator(train_set,\n",
    "        steps_per_epoch=2481,\n",
    "        epochs=10,\n",
    "        validation_data=test_set,\n",
    "        validation_steps=621)"
   ]
  },
  {
   "cell_type": "code",
   "execution_count": null,
   "metadata": {},
   "outputs": [],
   "source": []
  }
 ],
 "metadata": {
  "kernelspec": {
   "display_name": "Python 3",
   "language": "python",
   "name": "python3"
  },
  "language_info": {
   "codemirror_mode": {
    "name": "ipython",
    "version": 3
   },
   "file_extension": ".py",
   "mimetype": "text/x-python",
   "name": "python",
   "nbconvert_exporter": "python",
   "pygments_lexer": "ipython3",
   "version": "3.7.3"
  }
 },
 "nbformat": 4,
 "nbformat_minor": 2
}
