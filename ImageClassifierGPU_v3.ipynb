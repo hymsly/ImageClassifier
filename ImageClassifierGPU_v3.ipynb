{
 "cells": [
  {
   "cell_type": "code",
   "execution_count": 1,
   "metadata": {},
   "outputs": [
    {
     "name": "stderr",
     "output_type": "stream",
     "text": [
      "Using TensorFlow backend.\n"
     ]
    }
   ],
   "source": [
    "from keras.layers import Conv2D\n",
    "from keras.layers import MaxPooling2D\n",
    "from keras.layers import Flatten\n",
    "from keras.layers import Dense\n",
    "from keras import Sequential"
   ]
  },
  {
   "cell_type": "code",
   "execution_count": 22,
   "metadata": {},
   "outputs": [],
   "source": [
    "classifier = Sequential()"
   ]
  },
  {
   "cell_type": "code",
   "execution_count": 23,
   "metadata": {},
   "outputs": [],
   "source": [
    "##STEP 1: CONVOLUTIONAL LAYER\n",
    "classifier.add(Conv2D(64,(3,3),input_shape=(128,128,3),activation=\"relu\"))"
   ]
  },
  {
   "cell_type": "code",
   "execution_count": 24,
   "metadata": {},
   "outputs": [],
   "source": [
    "##STEP 2: POOLING\n",
    "classifier.add(MaxPooling2D(pool_size=(2,2)))"
   ]
  },
  {
   "cell_type": "code",
   "execution_count": 25,
   "metadata": {},
   "outputs": [],
   "source": [
    "##ADDING A NEW CONVOLUTIONA LAYER\n",
    "classifier.add(Conv2D(64, kernel_size=(3,3), activation='relu'))\n",
    "classifier.add(MaxPooling2D(pool_size=(2,2)))"
   ]
  },
  {
   "cell_type": "code",
   "execution_count": 26,
   "metadata": {},
   "outputs": [],
   "source": [
    "##STEP 3: FLATTENING\n",
    "classifier.add(Flatten())"
   ]
  },
  {
   "cell_type": "code",
   "execution_count": 27,
   "metadata": {},
   "outputs": [],
   "source": [
    "###ANN\n",
    "##STEP 4: FULL CONNECTED LAYER\n",
    "num_labels = 4\n",
    "classifier.add(Dense(activation=\"relu\", units=512))\n",
    "classifier.add(Dense(activation=\"relu\", units=512))\n",
    "classifier.add(Dense(activation=\"softmax\", units=num_labels))"
   ]
  },
  {
   "cell_type": "code",
   "execution_count": 28,
   "metadata": {},
   "outputs": [],
   "source": [
    "##COMPILE MODEL\n",
    "classifier.compile(optimizer=\"adam\",loss=\"categorical_crossentropy\",metrics=['accuracy'])"
   ]
  },
  {
   "cell_type": "code",
   "execution_count": 29,
   "metadata": {},
   "outputs": [
    {
     "name": "stdout",
     "output_type": "stream",
     "text": [
      "Found 2481 images belonging to 4 classes.\n",
      "Found 621 images belonging to 4 classes.\n"
     ]
    }
   ],
   "source": [
    "from keras.preprocessing.image import ImageDataGenerator\n",
    "URL_TRAIN = \"D:/UNI/TESIS/data/train\"\n",
    "URL_TEST = \"D:/UNI/TESIS/data/test\"\n",
    "train_datagen = ImageDataGenerator(\n",
    "        rescale=1./255,\n",
    "        shear_range=0.2,\n",
    "        zoom_range=0.2,\n",
    "        horizontal_flip=True)\n",
    "\n",
    "test_datagen = ImageDataGenerator(rescale=1./255)\n",
    "\n",
    "train_set = train_datagen.flow_from_directory(URL_TRAIN,\n",
    "                                                    target_size=(128, 128),\n",
    "                                                    batch_size=32,\n",
    "                                                    class_mode='categorical')\n",
    "\n",
    "test_set = test_datagen.flow_from_directory(URL_TEST,\n",
    "                                                        target_size=(128, 128),\n",
    "                                                        batch_size=32,\n",
    "                                                        class_mode='categorical')"
   ]
  },
  {
   "cell_type": "code",
   "execution_count": 30,
   "metadata": {},
   "outputs": [
    {
     "name": "stdout",
     "output_type": "stream",
     "text": [
      "Epoch 1/10\n",
      "2481/2481 [==============================] - 531s 214ms/step - loss: 0.4506 - acc: 0.8220 - val_loss: 1.6280 - val_acc: 0.6939\n",
      "Epoch 2/10\n",
      "2481/2481 [==============================] - 529s 213ms/step - loss: 0.0668 - acc: 0.9782 - val_loss: 1.8354 - val_acc: 0.6989\n",
      "Epoch 3/10\n",
      "2481/2481 [==============================] - 529s 213ms/step - loss: 0.0408 - acc: 0.9880 - val_loss: 2.3379 - val_acc: 0.6411\n",
      "Epoch 4/10\n",
      "2481/2481 [==============================] - 529s 213ms/step - loss: 0.0245 - acc: 0.9925 - val_loss: 2.5860 - val_acc: 0.6600\n",
      "Epoch 5/10\n",
      "2481/2481 [==============================] - 528s 213ms/step - loss: 0.0277 - acc: 0.9930 - val_loss: 2.7287 - val_acc: 0.6604\n",
      "Epoch 6/10\n",
      "2481/2481 [==============================] - 529s 213ms/step - loss: 0.0206 - acc: 0.9943 - val_loss: 2.8369 - val_acc: 0.6299\n",
      "Epoch 7/10\n",
      "2481/2481 [==============================] - 529s 213ms/step - loss: 0.0175 - acc: 0.9952 - val_loss: 2.8138 - val_acc: 0.6712\n",
      "Epoch 8/10\n",
      "2481/2481 [==============================] - 530s 214ms/step - loss: 0.0172 - acc: 0.9958 - val_loss: 3.5180 - val_acc: 0.6521\n",
      "Epoch 9/10\n",
      "2481/2481 [==============================] - 529s 213ms/step - loss: 0.0168 - acc: 0.9960 - val_loss: 3.4030 - val_acc: 0.6275\n",
      "Epoch 10/10\n",
      "2481/2481 [==============================] - 531s 214ms/step - loss: 0.0174 - acc: 0.9962 - val_loss: 2.9296 - val_acc: 0.6718\n"
     ]
    },
    {
     "data": {
      "text/plain": [
       "<keras.callbacks.History at 0x286b9b9bcf8>"
      ]
     },
     "execution_count": 30,
     "metadata": {},
     "output_type": "execute_result"
    }
   ],
   "source": [
    "from PIL import ImageFile\n",
    "ImageFile.LOAD_TRUNCATED_IMAGES = True\n",
    "\n",
    "classifier.fit_generator(train_set,\n",
    "        steps_per_epoch=2481,\n",
    "        epochs=10,\n",
    "        validation_data=test_set,\n",
    "        validation_steps=621)"
   ]
  },
  {
   "cell_type": "code",
   "execution_count": null,
   "metadata": {},
   "outputs": [],
   "source": []
  }
 ],
 "metadata": {
  "kernelspec": {
   "display_name": "TensorFlow-GPU",
   "language": "python",
   "name": "tf-gpu"
  },
  "language_info": {
   "codemirror_mode": {
    "name": "ipython",
    "version": 3
   },
   "file_extension": ".py",
   "mimetype": "text/x-python",
   "name": "python",
   "nbconvert_exporter": "python",
   "pygments_lexer": "ipython3",
   "version": "3.7.3"
  }
 },
 "nbformat": 4,
 "nbformat_minor": 2
}
