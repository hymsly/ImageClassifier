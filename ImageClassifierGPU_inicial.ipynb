{
 "cells": [
  {
   "cell_type": "code",
   "execution_count": 1,
   "metadata": {},
   "outputs": [
    {
     "name": "stderr",
     "output_type": "stream",
     "text": [
      "Using TensorFlow backend.\n"
     ]
    }
   ],
   "source": [
    "from keras.layers import Conv2D\n",
    "from keras.layers import MaxPooling2D\n",
    "from keras.layers import Flatten\n",
    "from keras.layers import Dense\n",
    "from keras import Sequential"
   ]
  },
  {
   "cell_type": "code",
   "execution_count": 2,
   "metadata": {},
   "outputs": [],
   "source": [
    "classifier = Sequential()"
   ]
  },
  {
   "cell_type": "code",
   "execution_count": 3,
   "metadata": {},
   "outputs": [
    {
     "name": "stdout",
     "output_type": "stream",
     "text": [
      "WARNING:tensorflow:From C:\\Users\\Usuario\\Anaconda3\\envs\\tf-gpu\\lib\\site-packages\\tensorflow\\python\\framework\\op_def_library.py:263: colocate_with (from tensorflow.python.framework.ops) is deprecated and will be removed in a future version.\n",
      "Instructions for updating:\n",
      "Colocations handled automatically by placer.\n"
     ]
    }
   ],
   "source": [
    "##STEP 1: CONVOLUTIONAL LAYER\n",
    "classifier.add(Conv2D(32,(3,3),input_shape=(64,64,3),activation=\"relu\"))"
   ]
  },
  {
   "cell_type": "code",
   "execution_count": 4,
   "metadata": {},
   "outputs": [],
   "source": [
    "##STEP 2: POOLING\n",
    "classifier.add(MaxPooling2D(pool_size=(2,2)))"
   ]
  },
  {
   "cell_type": "code",
   "execution_count": 5,
   "metadata": {},
   "outputs": [],
   "source": [
    "##ADDING A NEW CONVOLUTIONA LAYER\n",
    "classifier.add(Conv2D(32, kernel_size=(3,3), activation='relu'))\n",
    "classifier.add(MaxPooling2D(pool_size=(2,2)))"
   ]
  },
  {
   "cell_type": "code",
   "execution_count": 6,
   "metadata": {},
   "outputs": [],
   "source": [
    "##STEP 3: FLATTENING\n",
    "classifier.add(Flatten())"
   ]
  },
  {
   "cell_type": "code",
   "execution_count": 7,
   "metadata": {},
   "outputs": [],
   "source": [
    "###ANN\n",
    "##STEP 4: FULL CONNECTED LAYER\n",
    "num_labels = 4\n",
    "classifier.add(Dense(activation=\"relu\", units=128))\n",
    "classifier.add(Dense(activation=\"softmax\", units=num_labels))"
   ]
  },
  {
   "cell_type": "code",
   "execution_count": 8,
   "metadata": {},
   "outputs": [],
   "source": [
    "##COMPILE MODEL\n",
    "classifier.compile(optimizer=\"adam\",loss=\"categorical_crossentropy\",metrics=['accuracy'])"
   ]
  },
  {
   "cell_type": "code",
   "execution_count": 9,
   "metadata": {},
   "outputs": [
    {
     "name": "stdout",
     "output_type": "stream",
     "text": [
      "Found 2481 images belonging to 4 classes.\n",
      "Found 621 images belonging to 4 classes.\n"
     ]
    }
   ],
   "source": [
    "from keras.preprocessing.image import ImageDataGenerator\n",
    "URL_TRAIN = \"D:/UNI/TESIS/data/train\"\n",
    "URL_TEST = \"D:/UNI/TESIS/data/test\"\n",
    "train_datagen = ImageDataGenerator(\n",
    "        rescale=1./255,\n",
    "        shear_range=0.2,\n",
    "        zoom_range=0.2,\n",
    "        horizontal_flip=True)\n",
    "\n",
    "test_datagen = ImageDataGenerator(rescale=1./255)\n",
    "\n",
    "train_set = train_datagen.flow_from_directory(URL_TRAIN,\n",
    "                                                    target_size=(64, 64),\n",
    "                                                    batch_size=32,\n",
    "                                                    class_mode='categorical')\n",
    "\n",
    "test_set = test_datagen.flow_from_directory(URL_TEST,\n",
    "                                                        target_size=(64, 64),\n",
    "                                                        batch_size=32,\n",
    "                                                        class_mode='categorical')"
   ]
  },
  {
   "cell_type": "code",
   "execution_count": 12,
   "metadata": {},
   "outputs": [
    {
     "name": "stdout",
     "output_type": "stream",
     "text": [
      "Epoch 1/20\n",
      "2481/2481 [==============================] - 387s 156ms/step - loss: 0.0653 - acc: 0.9782 - val_loss: 1.9697 - val_acc: 0.6969\n",
      "Epoch 2/20\n",
      "2481/2481 [==============================] - 386s 156ms/step - loss: 0.0415 - acc: 0.9873 - val_loss: 2.3566 - val_acc: 0.6815\n",
      "Epoch 3/20\n",
      "2481/2481 [==============================] - 393s 158ms/step - loss: 0.0371 - acc: 0.9878 - val_loss: 2.1466 - val_acc: 0.7023\n",
      "Epoch 4/20\n",
      "2481/2481 [==============================] - 385s 155ms/step - loss: 0.0249 - acc: 0.9920 - val_loss: 2.2523 - val_acc: 0.7386\n",
      "Epoch 5/20\n",
      "2481/2481 [==============================] - 434s 175ms/step - loss: 0.0246 - acc: 0.9921 - val_loss: 2.3731 - val_acc: 0.7022\n",
      "Epoch 6/20\n",
      "2481/2481 [==============================] - 604s 243ms/step - loss: 0.0178 - acc: 0.9948 - val_loss: 2.8643 - val_acc: 0.6864\n",
      "Epoch 7/20\n",
      "2481/2481 [==============================] - 598s 241ms/step - loss: 0.0222 - acc: 0.9935 - val_loss: 2.5339 - val_acc: 0.7073\n",
      "Epoch 8/20\n",
      "2481/2481 [==============================] - 577s 233ms/step - loss: 0.0182 - acc: 0.9947 - val_loss: 2.8129 - val_acc: 0.6766\n",
      "Epoch 9/20\n",
      "2481/2481 [==============================] - 406s 164ms/step - loss: 0.0144 - acc: 0.9956 - val_loss: 2.7182 - val_acc: 0.7279\n",
      "Epoch 10/20\n",
      "2481/2481 [==============================] - 392s 158ms/step - loss: 0.0170 - acc: 0.9951 - val_loss: 2.7704 - val_acc: 0.6741\n",
      "Epoch 11/20\n",
      "2481/2481 [==============================] - 392s 158ms/step - loss: 0.0159 - acc: 0.9957 - val_loss: 2.9665 - val_acc: 0.6829\n",
      "Epoch 12/20\n",
      "2481/2481 [==============================] - 393s 158ms/step - loss: 0.0127 - acc: 0.9963 - val_loss: 3.0405 - val_acc: 0.6884\n",
      "Epoch 13/20\n",
      "2481/2481 [==============================] - 391s 158ms/step - loss: 0.0122 - acc: 0.9965 - val_loss: 2.9581 - val_acc: 0.6819\n",
      "Epoch 14/20\n",
      "2481/2481 [==============================] - 390s 157ms/step - loss: 0.0117 - acc: 0.9966 - val_loss: 3.2172 - val_acc: 0.6869\n",
      "Epoch 15/20\n",
      "2481/2481 [==============================] - 390s 157ms/step - loss: 0.0161 - acc: 0.9956 - val_loss: 3.4440 - val_acc: 0.6568\n",
      "Epoch 16/20\n",
      "2481/2481 [==============================] - 391s 157ms/step - loss: 0.0151 - acc: 0.9968 - val_loss: 3.1888 - val_acc: 0.6922\n",
      "Epoch 17/20\n",
      "2481/2481 [==============================] - 389s 157ms/step - loss: 0.0098 - acc: 0.9972 - val_loss: 3.2439 - val_acc: 0.7038\n",
      "Epoch 18/20\n",
      "2481/2481 [==============================] - 389s 157ms/step - loss: 0.0094 - acc: 0.9975 - val_loss: 3.4604 - val_acc: 0.6827\n",
      "Epoch 19/20\n",
      "2481/2481 [==============================] - 389s 157ms/step - loss: 0.0134 - acc: 0.9967 - val_loss: 3.5002 - val_acc: 0.6634\n",
      "Epoch 20/20\n",
      "2481/2481 [==============================] - 389s 157ms/step - loss: 0.0093 - acc: 0.9977 - val_loss: 3.5335 - val_acc: 0.6678\n"
     ]
    },
    {
     "data": {
      "text/plain": [
       "<keras.callbacks.History at 0x285a6be6e80>"
      ]
     },
     "execution_count": 12,
     "metadata": {},
     "output_type": "execute_result"
    }
   ],
   "source": [
    "from PIL import ImageFile\n",
    "ImageFile.LOAD_TRUNCATED_IMAGES = True\n",
    "\n",
    "classifier.fit_generator(train_set,\n",
    "        steps_per_epoch=2481,\n",
    "        epochs=20,\n",
    "        validation_data=test_set,\n",
    "        validation_steps=621)"
   ]
  },
  {
   "cell_type": "code",
   "execution_count": null,
   "metadata": {},
   "outputs": [],
   "source": []
  }
 ],
 "metadata": {
  "kernelspec": {
   "display_name": "TensorFlow-GPU",
   "language": "python",
   "name": "tf-gpu"
  },
  "language_info": {
   "codemirror_mode": {
    "name": "ipython",
    "version": 3
   },
   "file_extension": ".py",
   "mimetype": "text/x-python",
   "name": "python",
   "nbconvert_exporter": "python",
   "pygments_lexer": "ipython3",
   "version": "3.7.3"
  }
 },
 "nbformat": 4,
 "nbformat_minor": 2
}
