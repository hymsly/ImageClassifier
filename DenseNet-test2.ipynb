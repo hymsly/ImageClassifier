{
 "cells": [
  {
   "cell_type": "code",
   "execution_count": 12,
   "metadata": {},
   "outputs": [],
   "source": [
    "import os\n",
    "\n",
    "import matplotlib.pyplot as plt\n",
    "import matplotlib.image as mpimg\n",
    "\n",
    "import xml.etree.ElementTree as ET\n",
    "\n",
    "import numpy as np\n",
    "import pandas as pd\n",
    "\n",
    "from sklearn.model_selection import train_test_split\n",
    "\n",
    "from keras.models import *\n",
    "from keras.layers import *\n",
    "from keras.optimizers import *\n",
    "from keras.utils import *\n",
    "from keras.callbacks import *\n",
    "\n",
    "from keras.applications.densenet import DenseNet121, preprocess_input"
   ]
  },
  {
   "cell_type": "code",
   "execution_count": 22,
   "metadata": {},
   "outputs": [],
   "source": [
    "num_classes=120\n",
    "\n",
    "inp = Input((224, 224, 3))\n",
    "backbone = DenseNet121(input_tensor=inp,weights=\"./densenet121_weights_tf_dim_ordering_tf_kernels.h5\")\n"
   ]
  },
  {
   "cell_type": "code",
   "execution_count": 23,
   "metadata": {},
   "outputs": [],
   "source": [
    "x = backbone.output\n",
    "x = Dense(1024, activation=\"relu\")(x)\n",
    "x = Dropout(0.5)(x)\n",
    "x = Dense(1024, activation=\"relu\")(x)\n",
    "x = Dropout(0.5)(x)\n",
    "outp = Dense(num_classes, activation=\"softmax\")(x)\n",
    "\n",
    "model = Model(inp, outp)"
   ]
  },
  {
   "cell_type": "code",
   "execution_count": 24,
   "metadata": {},
   "outputs": [],
   "source": [
    "for layer in model.layers[:-6]:\n",
    "    layer.trainable = False"
   ]
  },
  {
   "cell_type": "code",
   "execution_count": 25,
   "metadata": {},
   "outputs": [],
   "source": [
    "model.compile(optimizer=\"adam\",\n",
    "              loss=\"categorical_crossentropy\",\n",
    "              metrics=[\"acc\"])"
   ]
  },
  {
   "cell_type": "code",
   "execution_count": 26,
   "metadata": {},
   "outputs": [
    {
     "name": "stdout",
     "output_type": "stream",
     "text": [
      "Found 16469 images belonging to 120 classes.\n",
      "Found 4111 images belonging to 120 classes.\n"
     ]
    }
   ],
   "source": [
    "from keras.preprocessing.image import ImageDataGenerator\n",
    "URL_TRAIN = \"D:/UNI/TESIS2/train\"\n",
    "URL_TEST = \"D:/UNI/TESIS2/test\"\n",
    "train_datagen = ImageDataGenerator(\n",
    "        rescale=1./255,\n",
    "        shear_range=0.2,\n",
    "        zoom_range=0.2,\n",
    "        horizontal_flip=True)\n",
    "\n",
    "test_datagen = ImageDataGenerator(rescale=1./255)\n",
    "\n",
    "train_set = train_datagen.flow_from_directory(URL_TRAIN,\n",
    "                                                    target_size=(224, 224),\n",
    "                                                    batch_size=32,\n",
    "                                                    class_mode='categorical')\n",
    "\n",
    "test_set = test_datagen.flow_from_directory(URL_TEST,\n",
    "                                                        target_size=(224, 224),\n",
    "                                                        batch_size=32,\n",
    "                                                        class_mode='categorical')\n"
   ]
  },
  {
   "cell_type": "code",
   "execution_count": 27,
   "metadata": {},
   "outputs": [
    {
     "name": "stdout",
     "output_type": "stream",
     "text": [
      "Epoch 1/20\n",
      "515/515 [==============================] - 218s 423ms/step - loss: 1.9840 - acc: 0.5602 - val_loss: 1.4286 - val_acc: 0.6247\n",
      "Epoch 2/20\n",
      "515/515 [==============================] - 199s 387ms/step - loss: 1.1154 - acc: 0.6938 - val_loss: 1.3444 - val_acc: 0.6473\n",
      "Epoch 3/20\n",
      "515/515 [==============================] - 199s 386ms/step - loss: 0.9951 - acc: 0.7203 - val_loss: 1.4397 - val_acc: 0.6378\n",
      "Epoch 4/20\n",
      "515/515 [==============================] - 199s 387ms/step - loss: 0.9331 - acc: 0.7425 - val_loss: 1.3383 - val_acc: 0.6675\n",
      "Epoch 5/20\n",
      "515/515 [==============================] - 199s 387ms/step - loss: 0.8919 - acc: 0.7508 - val_loss: 1.3330 - val_acc: 0.6631\n",
      "Epoch 6/20\n",
      "515/515 [==============================] - 199s 387ms/step - loss: 0.8765 - acc: 0.7510 - val_loss: 1.3431 - val_acc: 0.6638\n",
      "Epoch 7/20\n",
      "515/515 [==============================] - 199s 386ms/step - loss: 0.8355 - acc: 0.7665 - val_loss: 1.3839 - val_acc: 0.6677\n",
      "Epoch 8/20\n",
      "515/515 [==============================] - 199s 386ms/step - loss: 0.7947 - acc: 0.7764 - val_loss: 1.3253 - val_acc: 0.6850\n",
      "Epoch 9/20\n",
      "515/515 [==============================] - 200s 388ms/step - loss: 0.7916 - acc: 0.7768 - val_loss: 1.3352 - val_acc: 0.6736\n",
      "Epoch 10/20\n",
      "515/515 [==============================] - 200s 389ms/step - loss: 0.7733 - acc: 0.7845 - val_loss: 1.3516 - val_acc: 0.6804\n",
      "Epoch 11/20\n",
      "515/515 [==============================] - 200s 389ms/step - loss: 0.7461 - acc: 0.7923 - val_loss: 1.3171 - val_acc: 0.6923\n",
      "Epoch 12/20\n",
      "515/515 [==============================] - 200s 389ms/step - loss: 0.7174 - acc: 0.8013 - val_loss: 1.3461 - val_acc: 0.6918\n",
      "Epoch 13/20\n",
      "515/515 [==============================] - 200s 389ms/step - loss: 0.7088 - acc: 0.8048 - val_loss: 1.4449 - val_acc: 0.6835\n",
      "Epoch 14/20\n",
      "515/515 [==============================] - 200s 389ms/step - loss: 0.6922 - acc: 0.8089 - val_loss: 1.4073 - val_acc: 0.6879\n",
      "Epoch 15/20\n",
      "515/515 [==============================] - 200s 388ms/step - loss: 0.6699 - acc: 0.8127 - val_loss: 1.5001 - val_acc: 0.6748\n",
      "Epoch 16/20\n",
      "515/515 [==============================] - 200s 389ms/step - loss: 0.6629 - acc: 0.8166 - val_loss: 1.3898 - val_acc: 0.6908\n",
      "Epoch 17/20\n",
      "515/515 [==============================] - 201s 390ms/step - loss: 0.6498 - acc: 0.8197 - val_loss: 1.3236 - val_acc: 0.6950\n",
      "Epoch 18/20\n",
      "515/515 [==============================] - 200s 389ms/step - loss: 0.6393 - acc: 0.8234 - val_loss: 1.3583 - val_acc: 0.6933\n",
      "Epoch 19/20\n",
      "515/515 [==============================] - 201s 390ms/step - loss: 0.6356 - acc: 0.8194 - val_loss: 1.3235 - val_acc: 0.6976\n",
      "Epoch 20/20\n",
      "515/515 [==============================] - 201s 389ms/step - loss: 0.6303 - acc: 0.8261 - val_loss: 1.3347 - val_acc: 0.6957\n"
     ]
    }
   ],
   "source": [
    "history = model.fit_generator(generator=train_set, \n",
    "                              steps_per_epoch=len(train_set), \n",
    "                              validation_data=test_set, \n",
    "                              validation_steps=len(test_set),\n",
    "                              epochs=20)"
   ]
  },
  {
   "cell_type": "code",
   "execution_count": 28,
   "metadata": {},
   "outputs": [
    {
     "data": {
      "image/png": "[encoded data removed]",
      "text/plain": [
       "<Figure size 432x432 with 1 Axes>"
      ]
     },
     "metadata": {
      "needs_background": "light"
     },
     "output_type": "display_data"
    },
    {
     "data": {
      "image/png": "[encoded data removed]",
      "text/plain": [
       "<Figure size 432x432 with 1 Axes>"
      ]
     },
     "metadata": {
      "needs_background": "light"
     },
     "output_type": "display_data"
    }
   ],
   "source": [
    "plt.rcParams['figure.figsize'] = (6,6)\n",
    "\n",
    "acc = history.history['acc']\n",
    "val_acc = history.history['val_acc']\n",
    "loss = history.history['loss']\n",
    "val_loss = history.history['val_loss']\n",
    "epochs = range(1, len(acc) + 1)\n",
    "\n",
    "plt.title('Training and validation accuracy')\n",
    "plt.plot(epochs, acc, 'red', label='Training acc')\n",
    "plt.plot(epochs, val_acc, 'blue', label='Validation acc')\n",
    "plt.legend()\n",
    "\n",
    "plt.figure()\n",
    "plt.title('Training and validation loss')\n",
    "plt.plot(epochs, loss, 'red', label='Training loss')\n",
    "plt.plot(epochs, val_loss, 'blue', label='Validation loss')\n",
    "\n",
    "plt.legend()\n",
    "\n",
    "plt.show()"
   ]
  },
  {
   "cell_type": "code",
   "execution_count": 29,
   "metadata": {},
   "outputs": [],
   "source": [
    "#######SAVING MODEL######\n",
    "model_json = model.to_json()\n",
    "with open(\"D:/UNI/TESIS2/model.json\",'w') as json_file:\n",
    "    json_file.write(model_json)\n",
    "model.save_weights(\"D:/UNI/TESIS2/model.h5\")"
   ]
  },
  {
   "cell_type": "code",
   "execution_count": null,
   "metadata": {},
   "outputs": [],
   "source": []
  }
 ],
 "metadata": {
  "kernelspec": {
   "display_name": "TensorFlow-GPU",
   "language": "python",
   "name": "tf-gpu"
  },
  "language_info": {
   "codemirror_mode": {
    "name": "ipython",
    "version": 3
   },
   "file_extension": ".py",
   "mimetype": "text/x-python",
   "name": "python",
   "nbconvert_exporter": "python",
   "pygments_lexer": "ipython3",
   "version": "3.7.3"
  }
 },
 "nbformat": 4,
 "nbformat_minor": 2
}
