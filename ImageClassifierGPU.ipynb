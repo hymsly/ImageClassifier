{
 "cells": [
  {
   "cell_type": "code",
   "execution_count": 1,
   "metadata": {},
   "outputs": [
    {
     "name": "stderr",
     "output_type": "stream",
     "text": [
      "Using TensorFlow backend.\n"
     ]
    }
   ],
   "source": [
    "from keras.layers import Conv2D\n",
    "from keras.layers import MaxPooling2D\n",
    "from keras.layers import Flatten\n",
    "from keras.layers import Dense\n",
    "from keras import Sequential"
   ]
  },
  {
   "cell_type": "code",
   "execution_count": 2,
   "metadata": {},
   "outputs": [],
   "source": [
    "classifier = Sequential()"
   ]
  },
  {
   "cell_type": "code",
   "execution_count": 3,
   "metadata": {},
   "outputs": [
    {
     "name": "stdout",
     "output_type": "stream",
     "text": [
      "WARNING:tensorflow:From C:\\Users\\Usuario\\Anaconda3\\envs\\tf-gpu\\lib\\site-packages\\tensorflow\\python\\framework\\op_def_library.py:263: colocate_with (from tensorflow.python.framework.ops) is deprecated and will be removed in a future version.\n",
      "Instructions for updating:\n",
      "Colocations handled automatically by placer.\n"
     ]
    }
   ],
   "source": [
    "##STEP 1: CONVOLUTIONAL LAYER\n",
    "classifier.add(Conv2D(64,(3,3),input_shape=(128,128,3),activation=\"relu\"))"
   ]
  },
  {
   "cell_type": "code",
   "execution_count": 4,
   "metadata": {},
   "outputs": [],
   "source": [
    "##STEP 2: POOLING\n",
    "classifier.add(MaxPooling2D(pool_size=(2,2)))"
   ]
  },
  {
   "cell_type": "code",
   "execution_count": 5,
   "metadata": {},
   "outputs": [],
   "source": [
    "##ADDING A NEW CONVOLUTIONA LAYER\n",
    "classifier.add(Conv2D(64, kernel_size=(3,3), activation='relu'))\n",
    "classifier.add(MaxPooling2D(pool_size=(2,2)))"
   ]
  },
  {
   "cell_type": "code",
   "execution_count": 6,
   "metadata": {},
   "outputs": [],
   "source": [
    "##STEP 3: FLATTENING\n",
    "classifier.add(Flatten())"
   ]
  },
  {
   "cell_type": "code",
   "execution_count": 7,
   "metadata": {},
   "outputs": [],
   "source": [
    "###ANN\n",
    "##STEP 4: FULL CONNECTED LAYER\n",
    "num_labels = 210\n",
    "classifier.add(Dense(activation=\"relu\", units=512))\n",
    "classifier.add(Dense(activation=\"relu\", units=512))\n",
    "classifier.add(Dense(activation=\"softmax\", units=num_labels))"
   ]
  },
  {
   "cell_type": "code",
   "execution_count": 8,
   "metadata": {},
   "outputs": [],
   "source": [
    "##COMPILE MODEL\n",
    "classifier.compile(optimizer=\"adam\",loss=\"categorical_crossentropy\",metrics=['accuracy'])"
   ]
  },
  {
   "cell_type": "code",
   "execution_count": 9,
   "metadata": {},
   "outputs": [
    {
     "name": "stdout",
     "output_type": "stream",
     "text": [
      "Found 48709 images belonging to 210 classes.\n",
      "Found 12280 images belonging to 210 classes.\n"
     ]
    }
   ],
   "source": [
    "from keras.preprocessing.image import ImageDataGenerator\n",
    "URL_TRAIN = \"D:/UNI/TESIS/data/train\"\n",
    "URL_TEST = \"D:/UNI/TESIS/data/test\"\n",
    "train_datagen = ImageDataGenerator(\n",
    "        rescale=1./255,\n",
    "        shear_range=0.2,\n",
    "        zoom_range=0.2,\n",
    "        horizontal_flip=True)\n",
    "\n",
    "test_datagen = ImageDataGenerator(rescale=1./255)\n",
    "\n",
    "train_set = train_datagen.flow_from_directory(URL_TRAIN,\n",
    "                                                    target_size=(128, 128),\n",
    "                                                    batch_size=4,\n",
    "                                                    class_mode='categorical')\n",
    "\n",
    "test_set = test_datagen.flow_from_directory(URL_TEST,\n",
    "                                                        target_size=(128, 128),\n",
    "                                                        batch_size=4,\n",
    "                                                        class_mode='categorical')"
   ]
  },
  {
   "cell_type": "code",
   "execution_count": 10,
   "metadata": {},
   "outputs": [
    {
     "name": "stdout",
     "output_type": "stream",
     "text": [
      "WARNING:tensorflow:From C:\\Users\\Usuario\\Anaconda3\\envs\\tf-gpu\\lib\\site-packages\\tensorflow\\python\\ops\\math_ops.py:3066: to_int32 (from tensorflow.python.ops.math_ops) is deprecated and will be removed in a future version.\n",
      "Instructions for updating:\n",
      "Use tf.cast instead.\n",
      "Epoch 1/10\n",
      " 3378/48709 [=>............................] - ETA: 21:10 - loss: 5.1319 - acc: 0.0268"
     ]
    },
    {
     "name": "stderr",
     "output_type": "stream",
     "text": [
      "C:\\Users\\Usuario\\Anaconda3\\envs\\tf-gpu\\lib\\site-packages\\PIL\\TiffImagePlugin.py:780: UserWarning: Corrupt EXIF data.  Expecting to read 4 bytes but only got 0. \n",
      "  warnings.warn(str(msg))\n"
     ]
    },
    {
     "name": "stdout",
     "output_type": "stream",
     "text": [
      "48709/48709 [==============================] - 1491s 31ms/step - loss: 5.0900 - acc: 0.0300 - val_loss: 5.0853 - val_acc: 0.0299\n",
      "Epoch 2/10\n",
      "48709/48709 [==============================] - 1472s 30ms/step - loss: 5.0831 - acc: 0.0301 - val_loss: 5.0840 - val_acc: 0.0299\n",
      "Epoch 3/10\n",
      "48709/48709 [==============================] - 1468s 30ms/step - loss: 5.0819 - acc: 0.0301 - val_loss: 5.0841 - val_acc: 0.0299\n",
      "Epoch 4/10\n",
      "48709/48709 [==============================] - 1470s 30ms/step - loss: 5.0812 - acc: 0.0301 - val_loss: 5.0836 - val_acc: 0.0299\n",
      "Epoch 5/10\n",
      "48709/48709 [==============================] - 1467s 30ms/step - loss: 5.0808 - acc: 0.0301 - val_loss: 5.0836 - val_acc: 0.0299\n",
      "Epoch 6/10\n",
      "48709/48709 [==============================] - 1472s 30ms/step - loss: 5.0804 - acc: 0.0301 - val_loss: 5.0836 - val_acc: 0.0299\n",
      "Epoch 7/10\n",
      "48709/48709 [==============================] - 1475s 30ms/step - loss: 5.0805 - acc: 0.0301 - val_loss: 5.0837 - val_acc: 0.0299\n",
      "Epoch 8/10\n",
      "48709/48709 [==============================] - 1475s 30ms/step - loss: 5.0805 - acc: 0.0301 - val_loss: 5.0836 - val_acc: 0.0299\n",
      "Epoch 9/10\n",
      "48709/48709 [==============================] - 24099s 495ms/step - loss: 5.0805 - acc: 0.0301 - val_loss: 5.0836 - val_acc: 0.0299\n",
      "Epoch 10/10\n",
      "48709/48709 [==============================] - 1472s 30ms/step - loss: 5.0805 - acc: 0.0301 - val_loss: 5.0837 - val_acc: 0.0299\n"
     ]
    },
    {
     "data": {
      "text/plain": [
       "<keras.callbacks.History at 0x1d5898e5f28>"
      ]
     },
     "execution_count": 10,
     "metadata": {},
     "output_type": "execute_result"
    }
   ],
   "source": [
    "from PIL import ImageFile\n",
    "ImageFile.LOAD_TRUNCATED_IMAGES = True\n",
    "\n",
    "classifier.fit_generator(train_set,\n",
    "        steps_per_epoch=48709,\n",
    "        epochs=10,\n",
    "        validation_data=test_set,\n",
    "        validation_steps=12280)"
   ]
  },
  {
   "cell_type": "code",
   "execution_count": null,
   "metadata": {},
   "outputs": [],
   "source": []
  }
 ],
 "metadata": {
  "kernelspec": {
   "display_name": "TensorFlow-GPU",
   "language": "python",
   "name": "tf-gpu"
  },
  "language_info": {
   "codemirror_mode": {
    "name": "ipython",
    "version": 3
   },
   "file_extension": ".py",
   "mimetype": "text/x-python",
   "name": "python",
   "nbconvert_exporter": "python",
   "pygments_lexer": "ipython3",
   "version": "3.7.3"
  }
 },
 "nbformat": 4,
 "nbformat_minor": 2
}
