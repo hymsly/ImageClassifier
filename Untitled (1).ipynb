{
 "cells": [
  {
   "cell_type": "code",
   "execution_count": 86,
   "metadata": {},
   "outputs": [],
   "source": [
    "from keras.models import load_model\n",
    "from keras.preprocessing import image\n",
    "import numpy as np"
   ]
  },
  {
   "cell_type": "code",
   "execution_count": 87,
   "metadata": {},
   "outputs": [],
   "source": [
    "img_width, img_height = 224, 224\n",
    "from keras.models import load_model\n",
    "from keras.models import model_from_json\n",
    "import json\n",
    "\n",
    "with open(\"D:/UNI/TESIS2/clasificador/ImageClassifier/modelo/model.json\",'r') as f:\n",
    "    model_json = f.read()\n",
    "    #print(type(model_json))\n",
    "\n",
    "#type(model_json)\n",
    "model = model_from_json(model_json)\n",
    "model.load_weights(\"D:/UNI/TESIS2/clasificador/ImageClassifier/modelo/model.h5\")\n",
    "model.compile(optimizer=\"adam\",\n",
    "              loss=\"categorical_crossentropy\",\n",
    "              metrics=[\"acc\"])"
   ]
  },
  {
   "cell_type": "code",
   "execution_count": 88,
   "metadata": {},
   "outputs": [],
   "source": [
    "from os import listdir\n",
    "mypath = \"D:/UNI/TESIS2/Images\"\n",
    "razas = [f for f in listdir(mypath)]"
   ]
  },
  {
   "cell_type": "code",
   "execution_count": 89,
   "metadata": {},
   "outputs": [
    {
     "name": "stdout",
     "output_type": "stream",
     "text": [
      "n02105641-Old_English_sheepdog 0.5532076\n"
     ]
    }
   ],
   "source": [
    "img = image.load_img(\"D:/UNI/TESIS2/Images/n02086079-Pekinese/n02086079_146.jpg\", target_size=(img_width, img_height))\n",
    "x = image.img_to_array(img)\n",
    "x = np.expand_dims(x, axis=0)\n",
    "\n",
    "images = np.vstack([x])\n",
    "classes = model.predict(images, batch_size=32)\n",
    "#print (classes)\n",
    "#print(razas)\n",
    "prediccion = []\n",
    "suma = 0.0\n",
    "for i in range(120):\n",
    "    suma += classes[0][i]\n",
    "    prediccion.append({\"raza\":razas[i],\"probabilidad\":classes[0][i]})\n",
    "\n",
    "sorted_pred = sorted(prediccion, key = lambda i: i['probabilidad'],reverse=True) \n",
    "print(sorted_pred[0][\"raza\"],sorted_pred[0][\"probabilidad\"])"
   ]
  },
  {
   "cell_type": "code",
   "execution_count": 75,
   "metadata": {},
   "outputs": [
    {
     "name": "stdout",
     "output_type": "stream",
     "text": [
      "n02102318-cocker_spaniel 0.9916654\n"
     ]
    }
   ],
   "source": [
    "\n",
    "img = image.load_img(\"D:/UNI/TESIS2/Images/n02105412-kelpie/n02105412_43.jpg\", target_size=(img_width, img_height))\n",
    "x = image.img_to_array(img)\n",
    "x = np.expand_dims(x, axis=0)\n",
    "\n",
    "images = np.vstack([x])\n",
    "classes = model.predict(images, batch_size=32)\n",
    "#print (classes)\n",
    "#print(razas)\n",
    "prediccion = []\n",
    "suma = 0.0\n",
    "for i in range(120):\n",
    "    suma += classes[0][i]\n",
    "    prediccion.append({\"raza\":razas[i],\"probabilidad\":classes[0][i]})\n",
    "\n",
    "sorted_pred = sorted(prediccion, key = lambda i: i['probabilidad'],reverse=True) \n",
    "print(sorted_pred[0][\"raza\"],sorted_pred[0][\"probabilidad\"])"
   ]
  },
  {
   "cell_type": "code",
   "execution_count": 85,
   "metadata": {},
   "outputs": [
    {
     "ename": "AttributeError",
     "evalue": "'str' object has no attribute 'load_img'",
     "output_type": "error",
     "traceback": [
      "\u001b[1;31m---------------------------------------------------------------------------\u001b[0m",
      "\u001b[1;31mAttributeError\u001b[0m                            Traceback (most recent call last)",
      "\u001b[1;32m<ipython-input-85-356fbbb727c8>\u001b[0m in \u001b[0;36m<module>\u001b[1;34m\u001b[0m\n\u001b[0;32m      1\u001b[0m \u001b[1;33m\u001b[0m\u001b[0m\n\u001b[1;32m----> 2\u001b[1;33m \u001b[0mimg\u001b[0m \u001b[1;33m=\u001b[0m \u001b[0mimage\u001b[0m\u001b[1;33m.\u001b[0m\u001b[0mload_img\u001b[0m\u001b[1;33m(\u001b[0m\u001b[1;34m\"D:/UNI/TESIS2/Images/n02113186-Cardigan/n02113186_50.jpg\"\u001b[0m\u001b[1;33m,\u001b[0m \u001b[0mtarget_size\u001b[0m\u001b[1;33m=\u001b[0m\u001b[1;33m(\u001b[0m\u001b[0mimg_width\u001b[0m\u001b[1;33m,\u001b[0m \u001b[0mimg_height\u001b[0m\u001b[1;33m)\u001b[0m\u001b[1;33m)\u001b[0m\u001b[1;33m\u001b[0m\u001b[1;33m\u001b[0m\u001b[0m\n\u001b[0m\u001b[0;32m      3\u001b[0m \u001b[0mx\u001b[0m \u001b[1;33m=\u001b[0m \u001b[0mimage\u001b[0m\u001b[1;33m.\u001b[0m\u001b[0mimg_to_array\u001b[0m\u001b[1;33m(\u001b[0m\u001b[0mimg\u001b[0m\u001b[1;33m)\u001b[0m\u001b[1;33m\u001b[0m\u001b[1;33m\u001b[0m\u001b[0m\n\u001b[0;32m      4\u001b[0m \u001b[0mx\u001b[0m \u001b[1;33m=\u001b[0m \u001b[0mnp\u001b[0m\u001b[1;33m.\u001b[0m\u001b[0mexpand_dims\u001b[0m\u001b[1;33m(\u001b[0m\u001b[0mx\u001b[0m\u001b[1;33m,\u001b[0m \u001b[0maxis\u001b[0m\u001b[1;33m=\u001b[0m\u001b[1;36m0\u001b[0m\u001b[1;33m)\u001b[0m\u001b[1;33m\u001b[0m\u001b[1;33m\u001b[0m\u001b[0m\n\u001b[0;32m      5\u001b[0m \u001b[1;33m\u001b[0m\u001b[0m\n",
      "\u001b[1;31mAttributeError\u001b[0m: 'str' object has no attribute 'load_img'"
     ]
    }
   ],
   "source": [
    "\n",
    "img = image.load_img(\"D:/UNI/TESIS2/Images/n02113186-Cardigan/n02113186_50.jpg\", target_size=(img_width, img_height))\n",
    "x = image.img_to_array(img)\n",
    "x = np.expand_dims(x, axis=0)\n",
    "\n",
    "images = np.vstack([x])\n",
    "classes = model.predict(images, batch_size=32)\n",
    "#print (classes)\n",
    "#print(razas)\n",
    "prediccion = []\n",
    "suma = 0.0\n",
    "for i in range(120):\n",
    "    suma += classes[0][i]\n",
    "    prediccion.append({\"raza\":razas[i],\"probabilidad\":classes[0][i]})\n",
    "\n",
    "sorted_pred = sorted(prediccion, key = lambda i: i['probabilidad'],reverse=True) \n",
    "print(sorted_pred[0][\"raza\"],sorted_pred[0][\"probabilidad\"])"
   ]
  },
  {
   "cell_type": "code",
   "execution_count": 101,
   "metadata": {},
   "outputs": [],
   "source": [
    "import os\n",
    "def predictRaza(direname,file,raza):\n",
    "    img = image.load_img(os.path.join(direname,file), target_size=(img_width, img_height))\n",
    "    x = image.img_to_array(img)\n",
    "    x = np.expand_dims(x, axis=0)\n",
    "\n",
    "    images = np.vstack([x])\n",
    "    classes = model.predict(images, batch_size=32)\n",
    "\n",
    "    prediccion = []\n",
    "    for i in range(120):\n",
    "        prediccion.append({\"raza\":razas[i],\"probabilidad\":classes[0][i]})\n",
    "\n",
    "    sorted_pred = sorted(prediccion, key = lambda i: i['probabilidad'],reverse=True)\n",
    "    if(sorted_pred[0][\"raza\"]==raza):\n",
    "        print(\"#########################################################\")\n",
    "        print(file,sorted_pred[0][\"raza\"],sorted_pred[0][\"probabilidad\"])\n",
    "        print(\"#########################################################\")\n",
    "        return 1\n",
    "    return 0"
   ]
  },
  {
   "cell_type": "code",
   "execution_count": 102,
   "metadata": {},
   "outputs": [
    {
     "name": "stdout",
     "output_type": "stream",
     "text": [
      "n02116738-African_hunting_dog 0.0\n"
     ]
    }
   ],
   "source": [
    "raza = \"n02116738-African_hunting_dog\"\n",
    "BASE = \"D:/UNI/TESIS2/Images\"\n",
    "DIRENAME = os.path.join(BASE,raza)\n",
    "\n",
    "imagenes = [f for f in listdir(DIRENAME)]\n",
    "buenas = 0\n",
    "for imagen in imagenes:\n",
    "    #print(image)\n",
    "    valido = predictRaza(DIRENAME,imagen,raza)\n",
    "    if(valido==1):\n",
    "        buenas+=1\n",
    "print(raza,buenas/len(imagenes))\n",
    "    "
   ]
  },
  {
   "cell_type": "code",
   "execution_count": null,
   "metadata": {},
   "outputs": [],
   "source": []
  }
 ],
 "metadata": {
  "kernelspec": {
   "display_name": "Python 3",
   "language": "python",
   "name": "python3"
  },
  "language_info": {
   "codemirror_mode": {
    "name": "ipython",
    "version": 3
   },
   "file_extension": ".py",
   "mimetype": "text/x-python",
   "name": "python",
   "nbconvert_exporter": "python",
   "pygments_lexer": "ipython3",
   "version": "3.7.3"
  }
 },
 "nbformat": 4,
 "nbformat_minor": 2
}
